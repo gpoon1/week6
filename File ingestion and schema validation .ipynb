{
 "cells": [
  {
   "cell_type": "code",
   "execution_count": 1,
   "id": "d995df96",
   "metadata": {},
   "outputs": [],
   "source": [
    "import time \n",
    "\n",
    "file_path = 'C:/Users/poong/Documents/GitHub/week6/itineraries.csv'\n"
   ]
  },
  {
   "cell_type": "markdown",
   "id": "a03b9621",
   "metadata": {},
   "source": [
    "# File reading"
   ]
  },
  {
   "cell_type": "markdown",
   "id": "5c75807c",
   "metadata": {},
   "source": [
    "## File reading using Dask "
   ]
  },
  {
   "cell_type": "code",
   "execution_count": 2,
   "id": "e76de56c",
   "metadata": {},
   "outputs": [
    {
     "name": "stdout",
     "output_type": "stream",
     "text": [
      "Time taken to read the file using Dask: 0.06 seconds\n"
     ]
    }
   ],
   "source": [
    "import dask.dataframe as dd\n",
    "\n",
    "# Start and end \n",
    "start_time = time.time()\n",
    "dask_df = dd.read_csv(file_path)\n",
    "end_time = time.time()\n",
    "\n",
    "# Elapsed time\n",
    "elapsed_time = end_time - start_time\n",
    "\n",
    "print(f\"Time taken to read the file using Dask: {elapsed_time:.2f} seconds\")\n"
   ]
  },
  {
   "cell_type": "markdown",
   "id": "53120648",
   "metadata": {},
   "source": [
    "## File reading using Pandas "
   ]
  },
  {
   "cell_type": "code",
   "execution_count": null,
   "id": "e84ebd08",
   "metadata": {},
   "outputs": [],
   "source": [
    "import pandas as pd\n",
    "\n",
    "# finding time \n",
    "start_time_pandas = time.time()\n",
    "pandas_df = pd.read_csv(file_path)\n",
    "end_time_pandas = time.time()\n",
    "\n",
    "# Calculate the elapsed time\n",
    "elapsed_time_pandas = end_time_pandas - start_time_pandas\n",
    "\n",
    "print(elapsed_time_pandas)\n",
    "\n",
    "print(f\"Time taken to read the file using Pandas: {elapsed_time_pandas:.2f} seconds\")\n"
   ]
  },
  {
   "cell_type": "markdown",
   "id": "754f5cd6",
   "metadata": {},
   "source": [
    "## File reading using Modin "
   ]
  },
  {
   "cell_type": "code",
   "execution_count": null,
   "id": "a09f3a8f",
   "metadata": {},
   "outputs": [],
   "source": [
    "import modin.pandas as pd\n",
    "\n",
    "# finding time\n",
    "start_time_modin = time.time()\n",
    "modin_df = pd.read_csv(file_path)\n",
    "end_time_modin = time.time()\n",
    "\n",
    "# Calculate the elapsed time\n",
    "elapsed_time_modin = end_time_modin - start_time_modin\n",
    "\n",
    "print(f\"Time taken to read the file using Modin: {elapsed_time_modin:.2f} seconds\")\n"
   ]
  },
  {
   "cell_type": "markdown",
   "id": "ecefbf50",
   "metadata": {},
   "source": [
    "## File reading using Ray "
   ]
  },
  {
   "cell_type": "code",
   "execution_count": null,
   "id": "21a830b9",
   "metadata": {},
   "outputs": [],
   "source": [
    "import ray\n",
    "import ray.dataframe as rdf\n",
    "\n",
    "ray.init(ignore_reinit_error=True)\n",
    "\n",
    "\n",
    "# finding time\n",
    "start_time_ray = time.time()\n",
    "ray_df = rdf.read_csv(file_path)\n",
    "end_time_ray = time.time()\n",
    "\n",
    "# Calculate the elapsed time\n",
    "elapsed_time_ray = end_time_ray - start_time_ray\n",
    "\n",
    "print(f\"Time taken to read the file using Ray: {elapsed_time_ray:.2f} seconds\")\n"
   ]
  },
  {
   "cell_type": "markdown",
   "id": "18f1ad5a",
   "metadata": {},
   "source": [
    "As shown from above, the fastest method would be to read the file using Dask. Hence, this will be the method chosen."
   ]
  },
  {
   "cell_type": "code",
   "execution_count": 3,
   "id": "d5bceb89",
   "metadata": {},
   "outputs": [],
   "source": [
    "row_count = len(dask_df)\n",
    "column_count = len(dask_df.columns)\n",
    "columns = dask_df.columns.tolist()\n",
    "data_types = dask_df.dtypes"
   ]
  },
  {
   "cell_type": "code",
   "execution_count": 5,
   "id": "e4bde07f",
   "metadata": {},
   "outputs": [
    {
     "name": "stdout",
     "output_type": "stream",
     "text": [
      "82138753\n",
      "27\n",
      "['legId', 'searchDate', 'flightDate', 'startingAirport', 'destinationAirport', 'fareBasisCode', 'travelDuration', 'elapsedDays', 'isBasicEconomy', 'isRefundable', 'isNonStop', 'baseFare', 'totalFare', 'seatsRemaining', 'totalTravelDistance', 'segmentsDepartureTimeEpochSeconds', 'segmentsDepartureTimeRaw', 'segmentsArrivalTimeEpochSeconds', 'segmentsArrivalTimeRaw', 'segmentsArrivalAirportCode', 'segmentsDepartureAirportCode', 'segmentsAirlineName', 'segmentsAirlineCode', 'segmentsEquipmentDescription', 'segmentsDurationInSeconds', 'segmentsDistance', 'segmentsCabinCode']\n",
      "legId                                 object\n",
      "searchDate                            object\n",
      "flightDate                            object\n",
      "startingAirport                       object\n",
      "destinationAirport                    object\n",
      "fareBasisCode                         object\n",
      "travelDuration                        object\n",
      "elapsedDays                            int64\n",
      "isBasicEconomy                          bool\n",
      "isRefundable                            bool\n",
      "isNonStop                               bool\n",
      "baseFare                             float64\n",
      "totalFare                            float64\n",
      "seatsRemaining                         int64\n",
      "totalTravelDistance                    int64\n",
      "segmentsDepartureTimeEpochSeconds     object\n",
      "segmentsDepartureTimeRaw              object\n",
      "segmentsArrivalTimeEpochSeconds       object\n",
      "segmentsArrivalTimeRaw                object\n",
      "segmentsArrivalAirportCode            object\n",
      "segmentsDepartureAirportCode          object\n",
      "segmentsAirlineName                   object\n",
      "segmentsAirlineCode                   object\n",
      "segmentsEquipmentDescription          object\n",
      "segmentsDurationInSeconds             object\n",
      "segmentsDistance                      object\n",
      "segmentsCabinCode                     object\n",
      "dtype: object\n"
     ]
    }
   ],
   "source": [
    "# information about itineraries.csv\n",
    "print(row_count)\n",
    "print(column_count)\n",
    "print(columns)\n",
    "print(data_types)"
   ]
  },
  {
   "cell_type": "markdown",
   "id": "5daa35e7",
   "metadata": {},
   "source": [
    "## Removing special characters and white spaces from column name "
   ]
  },
  {
   "cell_type": "code",
   "execution_count": 7,
   "id": "caf59c20",
   "metadata": {},
   "outputs": [
    {
     "name": "stderr",
     "output_type": "stream",
     "text": [
      "C:\\Users\\poong\\AppData\\Local\\Temp/ipykernel_6312/1070811814.py:8: FutureWarning: The default value of regex will change from True to False in a future version.\n",
      "  df.columns=df.columns.str.replace('[#,@,&]','')\n"
     ]
    }
   ],
   "source": [
    "import dask.dataframe as dd\n",
    "df = dd.read_csv(file_path)\n",
    "\n",
    "# Removing white space \n",
    "df.columns = df.columns.str.replace(' ', '')\n",
    "\n",
    "# Removing special characters \n",
    "df.columns=df.columns.str.replace('[#,@,&]','')"
   ]
  },
  {
   "cell_type": "markdown",
   "id": "95fe1353",
   "metadata": {},
   "source": [
    "# File validation"
   ]
  },
  {
   "cell_type": "markdown",
   "id": "5b0ce74e",
   "metadata": {},
   "source": [
    "## Creating yaml file "
   ]
  },
  {
   "cell_type": "code",
   "execution_count": 2,
   "id": "942df3ab",
   "metadata": {},
   "outputs": [
    {
     "name": "stdout",
     "output_type": "stream",
     "text": [
      "Overwriting config.yaml\n"
     ]
    }
   ],
   "source": [
    "%%writefile config.yaml\n",
    "\n",
    "file_type: csv\n",
    "dataset_name: itineraries\n",
    "file_name: itineraries\n",
    "table_name: itinerary_data\n",
    "inbound_delimiter: \",\"\n",
    "outbound_delimiter: \"|\"\n",
    "skip_leading_rows: 1\n",
    "columns:\n",
    "  - legId\n",
    "  - searchDate\n",
    "  - flightDate\n",
    "  - startingAirport\n",
    "  - destinationAirport\n",
    "  - fareBasisCode\n",
    "  - travelDuration\n",
    "  - elapsedDays\n",
    "  - isBasicEconomy\n",
    "  - isRefundable\n",
    "  - isNonStop\n",
    "  - baseFare\n",
    "  - totalFare\n",
    "  - seatsRemaining\n",
    "  - totalTravelDistance\n",
    "  - segmentsDepartureTimeEpochSeconds\n",
    "  - segmentsDepartureTimeRaw\n",
    "  - segmentsArrivalTimeEpochSeconds\n",
    "  - segmentsArrivalTimeRaw\n",
    "  - segmentsArrivalAirportCode\n",
    "  - segmentsDepartureAirportCode\n",
    "  - segmentsAirlineName\n",
    "  - segmentsAirlineCode\n",
    "  - segmentsEquipmentDescription\n",
    "  - segmentsDurationInSeconds\n",
    "  - segmentsDistance\n",
    "  - segmentsCabinCode\n"
   ]
  },
  {
   "cell_type": "markdown",
   "id": "c72bdf8e",
   "metadata": {},
   "source": [
    "## Creating utility.py"
   ]
  },
  {
   "cell_type": "code",
   "execution_count": 4,
   "id": "c9fd2f4d",
   "metadata": {},
   "outputs": [
    {
     "name": "stdout",
     "output_type": "stream",
     "text": [
      "Writing utility.py\n"
     ]
    }
   ],
   "source": [
    "%%writefile utility.py\n",
    "\n",
    "import yaml\n",
    "import logging\n",
    "\n",
    "def read_config_file(filepath):\n",
    "    with open(filepath, 'r') as stream:\n",
    "        try:\n",
    "            return yaml.load(stream, Loader=yaml.Loader)\n",
    "        except yaml.YAMLError as exc:\n",
    "            logging.error(exc)\n",
    "\n",
    "def col_header_val(df, table_config):\n",
    "    df.columns = df.columns.str.lower()\n",
    "    df.columns = df.columns.str.replace('[^\\w]', '_', regex=True)\n",
    "    df.columns = df.columns.str.strip('_')\n",
    "    \n",
    "    expected_col = list(map(str.lower, table_config['columns']))\n",
    "    expected_col.sort()\n",
    "    \n",
    "    df.columns = list(map(str.lower, df.columns))\n",
    "    df = df.reindex(sorted(df.columns), axis=1)\n",
    "    \n",
    "    if len(df.columns) == len(expected_col) and list(expected_col) == list(df.columns):\n",
    "        print(\"Column name and column length validation passed\")\n",
    "        return 1\n",
    "    else:\n",
    "        print(\"Column name and column length validation failed\")\n",
    "        mismatched_columns_file = list(set(df.columns).difference(expected_col))\n",
    "        print(\"Following File columns are not in the YAML file:\", mismatched_columns_file)\n",
    "        missing_YAML_file = list(set(expected_col).difference(df.columns))\n",
    "        print(\"Following YAML columns are not in the file uploaded:\", missing_YAML_file)\n",
    "        logging.info(f'df columns: {df.columns}')\n",
    "        logging.info(f'expected columns: {expected_col}')\n",
    "        return 0\n"
   ]
  },
  {
   "cell_type": "markdown",
   "id": "169cd84d",
   "metadata": {},
   "source": [
    "## Reading configuration file "
   ]
  },
  {
   "cell_type": "code",
   "execution_count": 6,
   "id": "60854d55",
   "metadata": {},
   "outputs": [],
   "source": [
    "import utility as util\n",
    "\n",
    "# Reading the Configuration File\n",
    "config_data = util.read_config_file(\"config.yaml\")"
   ]
  },
  {
   "cell_type": "markdown",
   "id": "20782c83",
   "metadata": {},
   "source": [
    "## Reading the File Using Configuration"
   ]
  },
  {
   "cell_type": "code",
   "execution_count": null,
   "id": "9f99fcac",
   "metadata": {},
   "outputs": [],
   "source": [
    "file_type = config_data['file_type']\n",
    "source_file = 'C:/Users/poong/Documents/GitHub/week6/itineraries.' + file_type  # Update with the correct file path\n",
    "\n",
    "import pandas as pd\n",
    "df = pd.read_csv(source_file, config_data['inbound_delimiter'])"
   ]
  },
  {
   "cell_type": "markdown",
   "id": "786b8827",
   "metadata": {},
   "source": [
    "## Validating the Header of the File"
   ]
  },
  {
   "cell_type": "code",
   "execution_count": null,
   "id": "3d53650a",
   "metadata": {},
   "outputs": [],
   "source": [
    "validation_result = util.col_header_val(df, config_data)\n",
    "\n",
    "if validation_result == 0:\n",
    "    print(\"Validation failed\")\n",
    "else:\n",
    "    print(\"Validation passed\")"
   ]
  },
  {
   "cell_type": "markdown",
   "id": "ff4a1645",
   "metadata": {},
   "source": [
    "## Displaying Column Information"
   ]
  },
  {
   "cell_type": "code",
   "execution_count": null,
   "id": "a4800b6c",
   "metadata": {},
   "outputs": [],
   "source": [
    "print(\"Columns of the file are:\", df.columns)\n",
    "print(\"Columns from the YAML configuration are:\", config_data['columns'])"
   ]
  },
  {
   "cell_type": "markdown",
   "id": "7b8f7ebe",
   "metadata": {},
   "source": [
    "## Writing CSV in Gzip Format Using Dask"
   ]
  },
  {
   "cell_type": "code",
   "execution_count": null,
   "id": "294accfc",
   "metadata": {},
   "outputs": [],
   "source": [
    "from dask import dataframe as dd\n",
    "df_dask = dd.from_pandas(df, npartitions=1)  # Using Dask DataFrame for demonstration\n"
   ]
  },
  {
   "cell_type": "markdown",
   "id": "b7e612b2",
   "metadata": {},
   "source": [
    "## Counting Files in Gzip Folder"
   ]
  },
  {
   "cell_type": "code",
   "execution_count": null,
   "id": "697f703b",
   "metadata": {},
   "outputs": [],
   "source": [
    "import os\n",
    "gzip_folder_path = 'C:/Users/poong/Documents/GitHub/week6/'  \n",
    "gzip_files = [entry for entry in os.listdir(gzip_folder_path) if entry.endswith('.gz')]\n",
    "\n",
    "# number of files \n",
    "print(\"Number of files in the gzip folder:\", len(gzip_files))\n",
    "print(\"List of gzip files:\", gzip_files)"
   ]
  },
  {
   "cell_type": "code",
   "execution_count": null,
   "id": "12e40b68",
   "metadata": {},
   "outputs": [],
   "source": [
    "# file size\n",
    "os.path.getsize('C:/Users/poong/Documents/GitHub/week6/itineraries.csv.gz')"
   ]
  }
 ],
 "metadata": {
  "kernelspec": {
   "display_name": "Python 3 (ipykernel)",
   "language": "python",
   "name": "python3"
  },
  "language_info": {
   "codemirror_mode": {
    "name": "ipython",
    "version": 3
   },
   "file_extension": ".py",
   "mimetype": "text/x-python",
   "name": "python",
   "nbconvert_exporter": "python",
   "pygments_lexer": "ipython3",
   "version": "3.9.7"
  }
 },
 "nbformat": 4,
 "nbformat_minor": 5
}
